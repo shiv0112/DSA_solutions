{
 "cells": [
  {
   "cell_type": "code",
   "execution_count": 1,
   "metadata": {},
   "outputs": [
    {
     "name": "stdout",
     "output_type": "stream",
     "text": [
      "Enter: 6\n",
      "0\n",
      "1\n",
      "1\n",
      "2\n",
      "3\n",
      "5\n"
     ]
    }
   ],
   "source": [
    "#fibonacci_recursion\n",
    "n=int(input(\"Enter: \"))\n",
    "def fib(n):\n",
    "    if n==2: \n",
    "        return(1)\n",
    "    elif n==1:\n",
    "        return(0)\n",
    "    else:\n",
    "        return(fib(n-1)+fib(n-2))\n",
    "for i in range(1,n+1):\n",
    "    print(fib(i))"
   ]
  },
  {
   "cell_type": "code",
   "execution_count": 2,
   "metadata": {},
   "outputs": [
    {
     "data": {
      "text/plain": [
       "8"
      ]
     },
     "execution_count": 2,
     "metadata": {},
     "output_type": "execute_result"
    }
   ],
   "source": [
    "#special_productsum\n",
    "n=[5,2,[7,-3],3,[6,[-13,8],4]]\n",
    "m=1\n",
    "def ps(n,m):\n",
    "    s=0\n",
    "    for i in n:\n",
    "        if type(i)==int:\n",
    "            s+=i\n",
    "        elif type(i)==list:\n",
    "            s+=ps(i,m+1)\n",
    "    return(s*m)\n",
    "\n",
    "ps(n,1)"
   ]
  },
  {
   "cell_type": "code",
   "execution_count": null,
   "metadata": {},
   "outputs": [],
   "source": [
    "#permutation\n"
   ]
  }
 ],
 "metadata": {
  "kernelspec": {
   "display_name": "Python 3",
   "language": "python",
   "name": "python3"
  },
  "language_info": {
   "codemirror_mode": {
    "name": "ipython",
    "version": 3
   },
   "file_extension": ".py",
   "mimetype": "text/x-python",
   "name": "python",
   "nbconvert_exporter": "python",
   "pygments_lexer": "ipython3",
   "version": "3.8.5"
  }
 },
 "nbformat": 4,
 "nbformat_minor": 4
}
