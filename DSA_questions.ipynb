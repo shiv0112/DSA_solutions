{
 "cells": [
  {
   "cell_type": "code",
   "execution_count": 1,
   "metadata": {
    "scrolled": true
   },
   "outputs": [
    {
     "name": "stdout",
     "output_type": "stream",
     "text": [
      "Enter Ramesh's basic salary: 40000\n",
      "Gross Salary of Ramesh is: 64000.0\n"
     ]
    }
   ],
   "source": [
    "#Coding Question 1\n",
    "s=int(input(\"Enter Ramesh's basic salary: \"))\n",
    "g=s+s*0.4+s*0.2\n",
    "print(\"Gross Salary of Ramesh is: \"+str(g))"
   ]
  },
  {
   "cell_type": "code",
   "execution_count": 2,
   "metadata": {
    "scrolled": true
   },
   "outputs": [
    {
     "name": "stdout",
     "output_type": "stream",
     "text": [
      "Enter the distance between two cities in kilometer: 5\n",
      "Distance in meters: 5000.0\n",
      "Distance in centimeters: 500000.0\n",
      "Distance in feets: 16404.2\n",
      "Distance in inches: 196850.5\n"
     ]
    }
   ],
   "source": [
    "#Coding Question 2\n",
    "d=float(input(\"Enter the distance between two cities in kilometer: \"))\n",
    "print(\"Distance in meters: \"+str(d*1000))\n",
    "print(\"Distance in centimeters: \"+str(d*100000))\n",
    "print(\"Distance in feets: \"+str(d*3280.84))\n",
    "print(\"Distance in inches: \"+str(d*39370.1))"
   ]
  },
  {
   "cell_type": "code",
   "execution_count": 3,
   "metadata": {
    "scrolled": true
   },
   "outputs": [
    {
     "name": "stdout",
     "output_type": "stream",
     "text": [
      "    * \n",
      "   * * \n",
      "  * * * \n",
      " * * * * \n",
      "* * * * * \n"
     ]
    }
   ],
   "source": [
    "#Coding Question 3\n",
    "s=5\n",
    "for i in range(1,6):\n",
    "    for k in range(1,s):\n",
    "        print(\" \", end=\"\")\n",
    "    for j in range(1,i+1):\n",
    "        print(\"* \", end=\"\")\n",
    "    print(\"\")\n",
    "    s-=1"
   ]
  },
  {
   "cell_type": "code",
   "execution_count": 4,
   "metadata": {},
   "outputs": [
    {
     "name": "stdout",
     "output_type": "stream",
     "text": [
      "Enter number a: 4\n",
      "Enter number b: 7\n",
      "Enter number c: 1\n",
      "Ascending Order: [1, 4, 7]\n",
      "Descending Order: [7, 4, 1]\n"
     ]
    }
   ],
   "source": [
    "#Coding Question 4\n",
    "a= int(input(\"Enter number a: \"))\n",
    "b= int(input(\"Enter number b: \"))\n",
    "c= int(input(\"Enter number c: \"))\n",
    "k=[a,b,c]\n",
    "k.sort()\n",
    "print(\"Ascending Order: \"+str(k))\n",
    "k.sort(reverse=True)\n",
    "print(\"Descending Order: \"+str(k))\n",
    "    "
   ]
  },
  {
   "cell_type": "code",
   "execution_count": 5,
   "metadata": {
    "scrolled": false
   },
   "outputs": [
    {
     "name": "stdout",
     "output_type": "stream",
     "text": [
      "*        *  *  *  *  \n",
      "\n",
      "*        *           \n",
      "\n",
      "*        *           \n",
      "\n",
      "*  *  *  *  *  *  *  \n",
      "\n",
      "         *        *  \n",
      "\n",
      "         *        *  \n",
      "\n",
      "*  *  *  *        *  \n",
      "\n"
     ]
    }
   ],
   "source": [
    "#Coding Question 5\n",
    "for i in range(1,8):\n",
    "    s=[10]\n",
    "    if i>1 and i<4:\n",
    "        s=[2,3,5,6,7]\n",
    "    elif i==1:\n",
    "        s=[2,3]\n",
    "    elif i>4 and i<7:\n",
    "        s=[1,2,3,5,6]\n",
    "    elif i==7:\n",
    "        s=[5,6]    \n",
    "    for j in range(1,8):\n",
    "        if j in s:\n",
    "            print(\"   \", end=\"\")\n",
    "        else:\n",
    "            print(\"*  \", end=\"\")\n",
    "    print(\"\\n\")"
   ]
  },
  {
   "cell_type": "code",
   "execution_count": null,
   "metadata": {},
   "outputs": [],
   "source": []
  }
 ],
 "metadata": {
  "kernelspec": {
   "display_name": "Python 3",
   "language": "python",
   "name": "python3"
  },
  "language_info": {
   "codemirror_mode": {
    "name": "ipython",
    "version": 3
   },
   "file_extension": ".py",
   "mimetype": "text/x-python",
   "name": "python",
   "nbconvert_exporter": "python",
   "pygments_lexer": "ipython3",
   "version": "3.8.5"
  }
 },
 "nbformat": 4,
 "nbformat_minor": 4
}
